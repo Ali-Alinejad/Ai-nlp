{
 "cells": [
  {
   "cell_type": "code",
   "execution_count": 64,
   "metadata": {},
   "outputs": [
    {
     "name": "stdout",
     "output_type": "stream",
     "text": [
      "text: Apple\n",
      "pos: PROPN\n",
      "dep: nsubj\n",
      "text: is\n",
      "pos: AUX\n",
      "dep: aux\n",
      "text: looking\n",
      "pos: VERB\n",
      "dep: ROOT\n",
      "text: at\n",
      "pos: ADP\n",
      "dep: prep\n",
      "text: buying\n",
      "pos: VERB\n",
      "dep: pcomp\n",
      "text: U.K.\n",
      "pos: PROPN\n",
      "dep: nsubj\n",
      "text: startup\n",
      "pos: VERB\n",
      "dep: ccomp\n",
      "text: for\n",
      "pos: ADP\n",
      "dep: prep\n",
      "text: $\n",
      "pos: SYM\n",
      "dep: quantmod\n",
      "text: 1\n",
      "pos: NUM\n",
      "dep: compound\n",
      "text: billion\n",
      "pos: NUM\n",
      "dep: pobj\n"
     ]
    }
   ],
   "source": [
    "import spacy\n",
    "\n",
    "# لود کردن مدل انگلیسی\n",
    "nlp = spacy.load(\"en_core_web_sm\")\n",
    "\n",
    "# پردازش یک متن\n",
    "doc = nlp(\"Apple is looking at buying U.K. startup for $1 billion\")\n",
    "\n",
    "# نمایش توکن‌ها\n",
    "for token in doc:\n",
    "    print(f\"text: {token.text}\")\n",
    "    print(f\"pos: {token.pos_}\")\n",
    "    print(f\"dep: {token.dep_}\")"
   ]
  },
  {
   "cell_type": "code",
   "execution_count": 65,
   "metadata": {},
   "outputs": [
    {
     "name": "stdout",
     "output_type": "stream",
     "text": [
      "Iran officially the Islamic Republic of Iran (IRI) and also known as Persia,[d] is a country in West Asia. It borders Turkey to the northwest and Iraq to the west, Azerbaijan, Armenia, the Caspian Sea, and Turkmenistan to the north, Afghanistan to the east, Pakistan to the southeast, the Gulf of Oman and the Persian Gulf to the south. With a multi-ethnic population of nearly 86 million in an area of 1,648,195 km2 (636,372 sq mi), Iran ranks 17th globally in both geographic size and population. It is the sixth-largest country entirely in Asia and one of the world's most mountainous countries. Officially an Islamic republic, Iran is divided into five regions with 31 provinces. Tehran is the nation's capital, largest city and financial centre.\n",
      "\n",
      "A cradle of civilisation, Iran has been inhabited since the Lower Palaeolithic. The large part of Iran was first unified as a political entity by the Medes under Cyaxares in the seventh century BC, and reached its territorial height in the sixth century BC, when Cyrus the Great founded the Achaemenid Empire, one of the largest in ancient history. Alexander the Great conquered the empire in the fourth century BC. An Iranian rebellion established the Parthian Empire in the third century BC and liberated the country, which was succeeded by the Sasanian Empire in the third century AD. Ancient Iran saw some of the earliest developments of writing, agriculture, urbanisation, religion and central government. The Sasanian era is considered a golden age in the history of Iranian civilisation. Muslims conquered the region in the seventh century AD, leading to Iran's Islamisation. The literature, philosophy, mathematics, medicine, astronomy and art which had blossomed during the Sasanian era were renewed during the Islamic Golden Age and Persian Renaissance, when a series of Iranian Muslim dynasties ended Arab rule, revived the Persian language and ruled the country until the Seljuk and Mongol conquests of the 11th to 14th centuries.\n",
      "\n",
      "In the 16th century, the native Safavid dynasty re-established a unified Iranian state with Twelver Shi'ism as the official religion. During the Afsharid Empire in the 18th century, Iran was a leading world power, but this was no longer the case after the Qajars took power in the 1790s. The early 20th century saw the Persian Constitutional Revolution and the establishment of the Pahlavi dynasty by Reza Shah the Great, who ousted the last Qajar shah in 1925. Attempts by Mohammad Mosaddegh to nationalise the oil industry led to an Anglo-American coup in 1953. After the Iranian Revolution, the monarchy was overthrown in 1979 and the Islamic Republic of Iran was established by Ruhollah Khomeini, who became the country's first Supreme Leader. In 1980, Iraq invaded Iran, sparking the eight-year-long Iranâ€“Iraq War, which ended in stalemate.\n",
      "\n",
      "Iran is officially governed as a unitary Islamic republic with a presidential system, with ultimate authority vested in a Supreme Leader. The government is authoritarian and has attracted widespread criticism for its significant violations of human rights and civil liberties. Iran is a major regional power, due to its large reserves of fossil fuels, including the world's second largest natural gas supply, third largest proven oil reserves, its geopolitically significant location, military capabilities, cultural hegemony, regional influence, and role as the world's focal point of Shia Islam. The Iranian economy is the world's 23rd-largest by PPP. Iran is a founding member of the United Nations, OIC, OPEC, and ECO as well as a current member of the NAM, SCO, and BRICS. Iran is home to 28 UNESCO World Heritage Sites, the 10th highest in the world, and ranks 5th in Intangible Cultural Heritage, or human treasures.\n"
     ]
    }
   ],
   "source": [
    "with open('text1.txt') as f :\n",
    "    text = f.read();\n",
    "print(text)"
   ]
  },
  {
   "cell_type": "code",
   "execution_count": 66,
   "metadata": {},
   "outputs": [
    {
     "name": "stdout",
     "output_type": "stream",
     "text": [
      "Iran officially the Islamic Republic of Iran (IRI) and also known as Persia,[d] is a country in West Asia. It borders Turkey to the northwest and Iraq to the west, Azerbaijan, Armenia, the Caspian Sea, and Turkmenistan to the north, Afghanistan to the east, Pakistan to the southeast, the Gulf of Oman and the Persian Gulf to the south. With a multi-ethnic population of nearly 86 million in an area of 1,648,195 km2 (636,372 sq mi), Iran ranks 17th globally in both geographic size and population. It is the sixth-largest country entirely in Asia and one of the world's most mountainous countries. Officially an Islamic republic, Iran is divided into five regions with 31 provinces. Tehran is the nation's capital, largest city and financial centre.\n",
      "\n",
      "A cradle of civilisation, Iran has been inhabited since the Lower Palaeolithic. The large part of Iran was first unified as a political entity by the Medes under Cyaxares in the seventh century BC, and reached its territorial height in the sixth century BC, when Cyrus the Great founded the Achaemenid Empire, one of the largest in ancient history. Alexander the Great conquered the empire in the fourth century BC. An Iranian rebellion established the Parthian Empire in the third century BC and liberated the country, which was succeeded by the Sasanian Empire in the third century AD. Ancient Iran saw some of the earliest developments of writing, agriculture, urbanisation, religion and central government. The Sasanian era is considered a golden age in the history of Iranian civilisation. Muslims conquered the region in the seventh century AD, leading to Iran's Islamisation. The literature, philosophy, mathematics, medicine, astronomy and art which had blossomed during the Sasanian era were renewed during the Islamic Golden Age and Persian Renaissance, when a series of Iranian Muslim dynasties ended Arab rule, revived the Persian language and ruled the country until the Seljuk and Mongol conquests of the 11th to 14th centuries.\n",
      "\n",
      "In the 16th century, the native Safavid dynasty re-established a unified Iranian state with Twelver Shi'ism as the official religion. During the Afsharid Empire in the 18th century, Iran was a leading world power, but this was no longer the case after the Qajars took power in the 1790s. The early 20th century saw the Persian Constitutional Revolution and the establishment of the Pahlavi dynasty by Reza Shah the Great, who ousted the last Qajar shah in 1925. Attempts by Mohammad Mosaddegh to nationalise the oil industry led to an Anglo-American coup in 1953. After the Iranian Revolution, the monarchy was overthrown in 1979 and the Islamic Republic of Iran was established by Ruhollah Khomeini, who became the country's first Supreme Leader. In 1980, Iraq invaded Iran, sparking the eight-year-long Iranâ€“Iraq War, which ended in stalemate.\n",
      "\n",
      "Iran is officially governed as a unitary Islamic republic with a presidential system, with ultimate authority vested in a Supreme Leader. The government is authoritarian and has attracted widespread criticism for its significant violations of human rights and civil liberties. Iran is a major regional power, due to its large reserves of fossil fuels, including the world's second largest natural gas supply, third largest proven oil reserves, its geopolitically significant location, military capabilities, cultural hegemony, regional influence, and role as the world's focal point of Shia Islam. The Iranian economy is the world's 23rd-largest by PPP. Iran is a founding member of the United Nations, OIC, OPEC, and ECO as well as a current member of the NAM, SCO, and BRICS. Iran is home to 28 UNESCO World Heritage Sites, the 10th highest in the world, and ranks 5th in Intangible Cultural Heritage, or human treasures.\n"
     ]
    }
   ],
   "source": [
    "doc = nlp(text)\n",
    "print(doc)"
   ]
  },
  {
   "cell_type": "code",
   "execution_count": 67,
   "metadata": {},
   "outputs": [
    {
     "name": "stdout",
     "output_type": "stream",
     "text": [
      "3768\n",
      "709\n"
     ]
    }
   ],
   "source": [
    "print(len(text))\n",
    "print(len(doc))\n"
   ]
  },
  {
   "cell_type": "code",
   "execution_count": 68,
   "metadata": {},
   "outputs": [
    {
     "name": "stdout",
     "output_type": "stream",
     "text": [
      "I\n",
      "r\n",
      "a\n",
      "n\n",
      " \n",
      "o\n",
      "f\n",
      "f\n",
      "i\n",
      "c\n",
      "i\n",
      "a\n",
      "l\n",
      "l\n",
      "y\n"
     ]
    }
   ],
   "source": [
    "for token in text[0:15]:\n",
    "    print(token)"
   ]
  },
  {
   "cell_type": "code",
   "execution_count": 69,
   "metadata": {},
   "outputs": [
    {
     "name": "stdout",
     "output_type": "stream",
     "text": [
      "Iran\n",
      "officially\n",
      "the\n",
      "Islamic\n",
      "Republic\n",
      "of\n",
      "Iran\n",
      "(\n",
      "IRI\n",
      ")\n",
      "and\n",
      "also\n",
      "known\n",
      "as\n",
      "Persia,[d\n"
     ]
    }
   ],
   "source": [
    "for token in doc[0:15]:\n",
    "    print(token)"
   ]
  },
  {
   "cell_type": "markdown",
   "metadata": {},
   "source": [
    "## جدا کردن جمله با sents"
   ]
  },
  {
   "cell_type": "code",
   "execution_count": 70,
   "metadata": {},
   "outputs": [
    {
     "data": {
      "text/plain": [
       "Iran officially the Islamic Republic of Iran (IRI) and also known as Persia,[d] is a country in West Asia."
      ]
     },
     "execution_count": 70,
     "metadata": {},
     "output_type": "execute_result"
    }
   ],
   "source": [
    "sentence1 = list(doc.sents)[0]\n",
    "sentence1"
   ]
  },
  {
   "cell_type": "code",
   "execution_count": 71,
   "metadata": {},
   "outputs": [
    {
     "name": "stdout",
     "output_type": "stream",
     "text": [
      "تعداد کل جملات: 27\n",
      "\n",
      "جمله 1:\n",
      "Iran officially the Islamic Republic of Iran (IRI) and also known as Persia,[d] is a country in West Asia.\n",
      "\n",
      "جمله 2:\n",
      "It borders Turkey to the northwest and Iraq to the west, Azerbaijan, Armenia, the Caspian Sea, and Turkmenistan to the north, Afghanistan to the east, Pakistan to the southeast, the Gulf of Oman and the Persian Gulf to the south.\n",
      "\n",
      "جمله 3:\n",
      "With a multi-ethnic population of nearly 86 million in an area of 1,648,195 km2 (636,372 sq mi), Iran ranks 17th globally in both geographic size and population.\n",
      "\n",
      "جمله 4:\n",
      "It is the sixth-largest country entirely in Asia and one of the world's most mountainous countries.\n",
      "\n",
      "جمله 5:\n",
      "Officially an Islamic republic, Iran is divided into five regions with 31 provinces.\n",
      "\n",
      "جمله 6:\n",
      "Tehran is the nation's capital, largest city and financial centre.\n",
      "\n",
      "\n",
      "\n",
      "جمله 7:\n",
      "A cradle of civilisation, Iran has been inhabited since the Lower Palaeolithic.\n",
      "\n",
      "جمله 8:\n",
      "The large part of Iran was first unified as a political entity by the Medes under Cyaxares in the seventh century BC, and reached its territorial height in the sixth century BC, when Cyrus the Great founded the Achaemenid Empire, one of the largest in ancient history.\n",
      "\n",
      "جمله 9:\n",
      "Alexander the Great conquered the empire in the fourth century BC.\n",
      "\n",
      "جمله 10:\n",
      "An Iranian rebellion established the Parthian Empire in the third century BC and liberated the country, which was succeeded by the Sasanian Empire in the third century AD.\n",
      "\n",
      "جمله 11:\n",
      "Ancient Iran saw some of the earliest developments of writing, agriculture, urbanisation, religion and central government.\n",
      "\n",
      "جمله 12:\n",
      "The Sasanian era is considered a golden age in the history of Iranian civilisation.\n",
      "\n",
      "جمله 13:\n",
      "Muslims conquered the region in the seventh century AD, leading to Iran's Islamisation.\n",
      "\n",
      "جمله 14:\n",
      "The literature, philosophy, mathematics, medicine, astronomy and art which had blossomed during the Sasanian era were renewed during the Islamic Golden Age and Persian Renaissance, when a series of Iranian Muslim dynasties ended Arab rule, revived the Persian language and ruled the country until the Seljuk and Mongol conquests of the 11th to 14th centuries.\n",
      "\n",
      "\n",
      "\n",
      "جمله 15:\n",
      "In the 16th century, the native Safavid dynasty re-established a unified Iranian state with Twelver Shi'ism as the official religion.\n",
      "\n",
      "جمله 16:\n",
      "During the Afsharid Empire in the 18th century, Iran was a leading world power, but this was no longer the case after the Qajars took power in the 1790s.\n",
      "\n",
      "جمله 17:\n",
      "The early 20th century saw the Persian Constitutional Revolution and the establishment of the Pahlavi dynasty by Reza Shah the Great, who ousted the last Qajar shah in 1925.\n",
      "\n",
      "جمله 18:\n",
      "Attempts by Mohammad Mosaddegh to nationalise the oil industry led to an Anglo-American coup in 1953.\n",
      "\n",
      "جمله 19:\n",
      "After the Iranian Revolution, the monarchy was overthrown in 1979 and the Islamic Republic of Iran was established by Ruhollah Khomeini, who became the country's first Supreme Leader.\n",
      "\n",
      "جمله 20:\n",
      "In 1980, Iraq invaded Iran, sparking the eight-year-long Iranâ€“Iraq War, which ended in stalemate.\n",
      "\n",
      "\n",
      "\n",
      "جمله 21:\n",
      "Iran is officially governed as a unitary Islamic republic with a presidential system, with ultimate authority vested in a Supreme Leader.\n",
      "\n",
      "جمله 22:\n",
      "The government is authoritarian and has attracted widespread criticism for its significant violations of human rights and civil liberties.\n",
      "\n",
      "جمله 23:\n",
      "Iran is a major regional power, due to its large reserves of fossil fuels, including the world's second largest natural gas supply, third largest proven oil reserves, its geopolitically significant location, military capabilities, cultural hegemony, regional influence, and role as the world's focal point of Shia Islam.\n",
      "\n",
      "جمله 24:\n",
      "The Iranian economy is the world's 23rd-largest by PPP.\n",
      "\n",
      "جمله 25:\n",
      "Iran is a founding member of the United Nations, OIC, OPEC, and ECO as well as a current member of the NAM, SCO, and BRICS.\n",
      "\n",
      "جمله 26:\n",
      "Iran is home to 28 UNESCO\n",
      "\n",
      "جمله 27:\n",
      "World Heritage Sites, the 10th highest in the world, and ranks 5th in Intangible Cultural Heritage, or human treasures.\n"
     ]
    }
   ],
   "source": [
    "# تبدیل generator به لیست و سپس چاپ جملات\n",
    "sentences = list(doc.sents)\n",
    "print(f\"تعداد کل جملات: {len(sentences)}\")\n",
    "\n",
    "for i, sentence in enumerate(sentences, 1):\n",
    "    print(f\"\\nجمله {i}:\")\n",
    "    print(sentence)"
   ]
  },
  {
   "cell_type": "code",
   "execution_count": 72,
   "metadata": {},
   "outputs": [
    {
     "data": {
      "text/plain": [
       "Iran"
      ]
     },
     "execution_count": 72,
     "metadata": {},
     "output_type": "execute_result"
    }
   ],
   "source": [
    "token = sentence1[0]\n",
    "token"
   ]
  },
  {
   "cell_type": "markdown",
   "metadata": {},
   "source": [
    " Token یه شیء مخصوص SpaCy هست که کلی اطلاعات داره.\n",
    "✅ Token.text یه رشته ساده (str) هست که فقط متن کلمه رو نگه می‌داره.\n",
    "\n",
    "نتیجه:\n",
    "🔹 اگه فقط متن خام یه کلمه رو بخوای، token.text بگیر.\n",
    "🔹 اگه اطلاعات بیشتری (مثل نوع کلمه، ربطش تو جمله و...) بخوای، همون token رو نگه دار."
   ]
  },
  {
   "cell_type": "code",
   "execution_count": 73,
   "metadata": {},
   "outputs": [
    {
     "name": "stdout",
     "output_type": "stream",
     "text": [
      "<class 'str'>\n"
     ]
    }
   ],
   "source": [
    "print(type(token.text))"
   ]
  },
  {
   "cell_type": "code",
   "execution_count": 74,
   "metadata": {},
   "outputs": [
    {
     "data": {
      "text/plain": [
       "'GPE'"
      ]
     },
     "execution_count": 74,
     "metadata": {},
     "output_type": "execute_result"
    }
   ],
   "source": [
    "token.ent_type_"
   ]
  },
  {
   "cell_type": "markdown",
   "metadata": {},
   "source": [
    "## ویژگی‌های Token در SpaCy\n",
    "\n",
    "| ویژگی | توضیحات | مثال‌ها |\n",
    "|--------|-----------|----------|\n",
    "| `ent_type_` | نوع موجودیت نام‌دار | GPE (مکان), ORG (سازمان), PERSON (شخص), DATE (تاریخ), MONEY (پول) |\n",
    "| `lemma_` | شکل پایه یا ریشه کلمه | running → run, books → book, went → go |\n",
    "| `pos_` | نقش دستوری کلمه | NOUN (اسم), VERB (فعل), ADJ (صفت), ADP (حرف اضافه), DET (حرف تعریف) |\n",
    "| `dep_` | رابطه نحوی با کلمات دیگر | nsubj (فاعل), dobj (مفعول مستقیم), pobj (مفعول با حرف اضافه), ROOT (ریشه جمله) |\n",
    "| `tag_` | برچسب دقیق‌تر نقش دستوری | NNP (اسم خاص), VBZ (فعل سوم شخص مفرد) |\n",
    "| `is_stop` | کلمه توقف بودن | the, is, at, which, on |\n",
    "| `is_alpha` | فقط شامل حروف الفبا بودن | True برای \"Iran\", False برای \"123\" |\n",
    "| `is_digit` | عدد بودن | True برای \"123\", False برای \"abc\" |\n",
    "| `is_punct` | علامت نگارشی بودن | True برای \".\", \",\", \"!\" |\n",
    "| `shape_` | شکل ظاهری کلمه | \"Iran\" → \"Xxxx\" (حرف اول بزرگ، بقیه کوچک) |\n",
    "| `like_num` | شبیه عدد بودن | True برای \"one\", \"1\", \"first\" |\n",
    "| `is_currency` | واحد پولی بودن | True برای \"$\", \"€\", \"£\" |\n",
    "\n",
    "### نکات مهم:\n",
    "- `Token` یک شیء مخصوص SpaCy است که اطلاعات زیادی را در خود نگه می‌دارد\n",
    "- `Token.text` یک رشته ساده (str) است که فقط متن کلمه را نگه می‌دارد\n",
    "- برای دسترسی به متن خام کلمه از `token.text` استفاده کنید\n",
    "- برای دسترسی به اطلاعات بیشتر (مثل نوع کلمه، رابطه نحوی و...) از خود `token` استفاده کنید"
   ]
  },
  {
   "cell_type": "code",
   "execution_count": 75,
   "metadata": {},
   "outputs": [
    {
     "data": {
      "text/plain": [
       "Number=Sing"
      ]
     },
     "execution_count": 75,
     "metadata": {},
     "output_type": "execute_result"
    }
   ],
   "source": [
    "token.morph"
   ]
  },
  {
   "cell_type": "markdown",
   "metadata": {},
   "source": [
    "## ویژگی morph در SpaCy\n",
    "\n",
    "`morph` اطلاعات صرفی (morphological) کلمه را نگه می‌دارد. این ویژگی شامل موارد زیر است:\n",
    "\n",
    "| ویژگی | توضیحات | مثال‌ها |\n",
    "|--------|-----------|----------|\n",
    "| `Number` | تعداد (مفرد/جمع) | Singular, Plural |\n",
    "| `Person` | شخص (اول/دوم/سوم) | First, Second, Third |\n",
    "| `Tense` | زمان فعل | Past, Present, Future |\n",
    "| `Voice` | صیغه فعل | Active, Passive |\n",
    "| `Mood` | وجه فعل | Indicative, Subjunctive |\n",
    "| `Gender` | جنسیت | Masculine, Feminine, Neuter |\n",
    "| `Case` | حالت | Nominative, Accusative, Genitive |\n",
    "| `Degree` | درجه | Positive, Comparative, Superlative |\n",
    "\n",
    "### مثال عملی:\n",
    "```python\n",
    "doc = nlp(\"I am running\")\n",
    "for token in doc:\n",
    "    print(f\"کلمه: {token.text}\")\n",
    "    print(f\"اطلاعات صرفی: {token.morph}\")\n",
    "    print(\"---\")\n",
    "```\n",
    "\n",
    "### نکات مهم:\n",
    "- `morph` یک شیء `MorphAnalysis` است\n",
    "- می‌توانید به ویژگی‌های خاص با استفاده از `token.morph.get()` دسترسی پیدا کنید\n",
    "- برای مثال: `token.morph.get('Number')` تعداد کلمه را برمی‌گرداند\n",
    "- اگر یک ویژگی صرفی وجود نداشته باشد، `None` برمی‌گرداند"
   ]
  },
  {
   "cell_type": "code",
   "execution_count": 76,
   "metadata": {},
   "outputs": [
    {
     "name": "stdout",
     "output_type": "stream",
     "text": [
      "known\n",
      "نوع کلمه: VERB\n",
      "نوع موجودیت: \n",
      "شکل ظاهری: xxxx\n",
      "Aspect=Perf|Tense=Past|VerbForm=Part\n"
     ]
    }
   ],
   "source": [
    "token = doc[12]  # \"Iran\"\n",
    "print(token)\n",
    "print(f\"نوع کلمه: {token.pos_}\")  # PROPN (اسم خاص)\n",
    "print(f\"نوع موجودیت: {token.ent_type_}\")  # GPE (مکان جغرافیایی)\n",
    "print(f\"شکل ظاهری: {token.shape_}\")  # Xxxx (حرف اول بزرگ)\n",
    "print(token.morph)\n"
   ]
  },
  {
   "cell_type": "code",
   "execution_count": 77,
   "metadata": {},
   "outputs": [
    {
     "data": {
      "text/plain": [
       "'en'"
      ]
     },
     "execution_count": 77,
     "metadata": {},
     "output_type": "execute_result"
    }
   ],
   "source": [
    "token.lang_"
   ]
  },
  {
   "cell_type": "code",
   "execution_count": 81,
   "metadata": {},
   "outputs": [
    {
     "name": "stdout",
     "output_type": "stream",
     "text": [
      "Word: welcome, POS: VERB, Morph: Tense=Pres|VerbForm=Fin\n",
      "Word: to, POS: ADP, Morph: \n",
      "Word: US, POS: PROPN, Morph: Number=Sing\n",
      "Word: office, POS: NOUN, Morph: Number=Sing\n"
     ]
    }
   ],
   "source": [
    "\n",
    "\n",
    "text2 = \"welcome to US office\"\n",
    "doc2 = nlp(text2)\n",
    "\n",
    "for token in doc2:\n",
    "    print(f\"Word: {token.text}, POS: {token.pos_}, Morph: {token.morph}\")\n"
   ]
  },
  {
   "cell_type": "code",
   "execution_count": null,
   "metadata": {},
   "outputs": [],
   "source": []
  }
 ],
 "metadata": {
  "kernelspec": {
   "display_name": "myenv",
   "language": "python",
   "name": "python3"
  },
  "language_info": {
   "codemirror_mode": {
    "name": "ipython",
    "version": 3
   },
   "file_extension": ".py",
   "mimetype": "text/x-python",
   "name": "python",
   "nbconvert_exporter": "python",
   "pygments_lexer": "ipython3",
   "version": "3.12.6"
  }
 },
 "nbformat": 4,
 "nbformat_minor": 2
}
