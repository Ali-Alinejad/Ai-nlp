{
 "cells": [
  {
   "cell_type": "code",
   "execution_count": 94,
   "metadata": {},
   "outputs": [],
   "source": [
    "import spacy\n",
    "import pandas as pd"
   ]
  },
  {
   "cell_type": "code",
   "execution_count": 95,
   "metadata": {},
   "outputs": [
    {
     "data": {
      "text/html": [
       "<div>\n",
       "<style scoped>\n",
       "    .dataframe tbody tr th:only-of-type {\n",
       "        vertical-align: middle;\n",
       "    }\n",
       "\n",
       "    .dataframe tbody tr th {\n",
       "        vertical-align: top;\n",
       "    }\n",
       "\n",
       "    .dataframe thead th {\n",
       "        text-align: right;\n",
       "    }\n",
       "</style>\n",
       "<table border=\"1\" class=\"dataframe\">\n",
       "  <thead>\n",
       "    <tr style=\"text-align: right;\">\n",
       "      <th></th>\n",
       "      <th>Symbol</th>\n",
       "      <th>Company</th>\n",
       "      <th>Industry</th>\n",
       "      <th>MarketCap</th>\n",
       "    </tr>\n",
       "  </thead>\n",
       "  <tbody>\n",
       "    <tr>\n",
       "      <th>0</th>\n",
       "      <td>AAPL</td>\n",
       "      <td>Apple Inc.</td>\n",
       "      <td>Technology</td>\n",
       "      <td>2800</td>\n",
       "    </tr>\n",
       "    <tr>\n",
       "      <th>1</th>\n",
       "      <td>MSFT</td>\n",
       "      <td>Microsoft</td>\n",
       "      <td>Technology</td>\n",
       "      <td>2500</td>\n",
       "    </tr>\n",
       "    <tr>\n",
       "      <th>2</th>\n",
       "      <td>TSLA</td>\n",
       "      <td>Tesla Inc.</td>\n",
       "      <td>Automotive</td>\n",
       "      <td>900</td>\n",
       "    </tr>\n",
       "    <tr>\n",
       "      <th>3</th>\n",
       "      <td>AMZN</td>\n",
       "      <td>Amazon.com Inc</td>\n",
       "      <td>E-Commerce</td>\n",
       "      <td>1700</td>\n",
       "    </tr>\n",
       "    <tr>\n",
       "      <th>4</th>\n",
       "      <td>GOOGL</td>\n",
       "      <td>Alphabet Inc.</td>\n",
       "      <td>Technology</td>\n",
       "      <td>1800</td>\n",
       "    </tr>\n",
       "  </tbody>\n",
       "</table>\n",
       "</div>"
      ],
      "text/plain": [
       "  Symbol         Company    Industry  MarketCap\n",
       "0   AAPL      Apple Inc.  Technology       2800\n",
       "1   MSFT      Microsoft   Technology       2500\n",
       "2   TSLA      Tesla Inc.  Automotive        900\n",
       "3   AMZN  Amazon.com Inc  E-Commerce       1700\n",
       "4  GOOGL   Alphabet Inc.  Technology       1800"
      ]
     },
     "execution_count": 95,
     "metadata": {},
     "output_type": "execute_result"
    }
   ],
   "source": [
    "df=pd.read_csv(\"stock_data_fixed.tsv\" , sep=\"\\t\")\n",
    "df.head()"
   ]
  },
  {
   "cell_type": "code",
   "execution_count": 118,
   "metadata": {},
   "outputs": [
    {
     "data": {
      "text/plain": [
       "['AAPL',\n",
       " 'MSFT',\n",
       " 'TSLA',\n",
       " 'AMZN',\n",
       " 'GOOGL',\n",
       " 'META',\n",
       " 'NVDA',\n",
       " 'JPM',\n",
       " 'WMT',\n",
       " 'KO',\n",
       " 'IBM',\n",
       " 'INTC',\n",
       " 'CSCO',\n",
       " 'ORCL',\n",
       " 'SAP',\n",
       " 'SONY',\n",
       " 'NFLX',\n",
       " 'DIS',\n",
       " 'PEP',\n",
       " 'ADBE',\n",
       " 'PYPL',\n",
       " 'UBER',\n",
       " 'LYFT',\n",
       " 'TWTR',\n",
       " 'SNAP',\n",
       " 'BABA',\n",
       " 'T',\n",
       " 'VZ',\n",
       " 'TM',\n",
       " 'GM',\n",
       " 'F',\n",
       " 'NKE',\n",
       " 'ADDYY',\n",
       " 'PFE',\n",
       " 'JNJ',\n",
       " 'MRNA',\n",
       " 'NVAX',\n",
       " 'XOM',\n",
       " 'CVX',\n",
       " 'BP',\n",
       " 'SHEL',\n",
       " 'TOT',\n",
       " 'WBA',\n",
       " 'COST',\n",
       " 'TGT',\n",
       " 'MCD',\n",
       " 'SBUX',\n",
       " 'YUM',\n",
       " 'CMG',\n",
       " 'BA',\n",
       " 'AIR',\n",
       " 'LMT',\n",
       " 'GD',\n",
       " 'RTX',\n",
       " 'CAT',\n",
       " 'DE',\n",
       " 'MMM',\n",
       " 'GE',\n",
       " 'HON',\n",
       " 'IBM',\n",
       " 'DHR',\n",
       " 'ABT',\n",
       " 'MDT',\n",
       " 'SYK',\n",
       " 'ZBH',\n",
       " 'ISRG',\n",
       " 'TMO',\n",
       " 'VRTX',\n",
       " 'REGN',\n",
       " 'BIIB',\n",
       " 'GILD',\n",
       " 'AMGN',\n",
       " 'CELG',\n",
       " 'ILMN',\n",
       " 'CRSP',\n",
       " 'EDIT',\n",
       " 'NTLA',\n",
       " 'BLUE',\n",
       " 'SQ',\n",
       " 'SPOT',\n",
       " 'ROKU',\n",
       " 'EA',\n",
       " 'ATVI',\n",
       " 'TTWO',\n",
       " 'UBI',\n",
       " 'SNE',\n",
       " 'AAPL2',\n",
       " 'MSFT2',\n",
       " 'TSLA2',\n",
       " 'AMZN2',\n",
       " 'GOOGL2',\n",
       " 'META2',\n",
       " 'NVDA2']"
      ]
     },
     "execution_count": 118,
     "metadata": {},
     "output_type": "execute_result"
    }
   ],
   "source": [
    "companies = df.Company.tolist()\n",
    "symbols = df.Symbol.tolist()\n",
    "\n",
    "symbols"
   ]
  },
  {
   "cell_type": "code",
   "execution_count": 119,
   "metadata": {},
   "outputs": [],
   "source": [
    "import spacy\n",
    "\n",
    "# ایجاد مدل خالی\n",
    "nlp = spacy.blank(\"en\")\n",
    "\n",
    "# افزودن Entity Ruler\n",
    "ruler = nlp.add_pipe(\"entity_ruler\")\n",
    "\n",
    "# تعریف الگوها (با نام‌های متغیر اصلاح شده)\n",
    "patterns = []\n",
    "\n",
    "# حلقه‌های اصلاح شده (استفاده از نام‌های متفاوت برای متغیرها)\n",
    "for company in companies:\n",
    "    patterns.append({\"label\": \"Company\", \"pattern\": company})\n",
    "\n",
    "for symbol in symbols:\n",
    "    patterns.append({\"label\": \"Symbol\", \"pattern\": symbol})\n",
    "\n",
    "\n",
    "ruler.add_patterns(patterns)\n",
    "\n"
   ]
  },
  {
   "cell_type": "code",
   "execution_count": 120,
   "metadata": {},
   "outputs": [],
   "source": [
    "text =\"Apple Inc. AAPL is a leading technology company headquartered in Cupertino, California. With a market capitalization of over 2 trillion dollars, Apple is known for its innovative products like the iPhone, iPad, and MacBook. The company trades on the NASDAQ stock exchange under the symbol AAPL. Recently, Apple announced a new breakthrough in augmented reality (AR) technology. Microsoft Corporation, another tech giant, has a market cap of 1.8 trillion dollars. Known for its Windows operating system, Microsoft is also expanding its presence in cloud computing and AI. The company is listed on NASDAQ with the symbol MSFT. Microsoft's cloud platform, Azure, is a major competitor to Amazon Web Services (AWS). Tesla Inc., a leader in the electric vehicle industry, has been rapidly growing its market share. The company is valued at around 800 billion dollars, and it trades under the symbol TSLA on the NASDAQ exchange. Tesla is also expanding into energy storage solutions and solar power. Elon Musk, the CEO, continues to push the boundaries of technology and innovation. The pharmaceutical company Pfizer, with a market cap of 300 billion dollars, has been at the forefront of COVID-19 vaccine development. Its symbol, PFE, can be found on the New York Stock Exchange (NYSE). Pfizer is expanding its portfolio with new treatments for various diseases, including cancer and heart conditions\""
   ]
  },
  {
   "cell_type": "code",
   "execution_count": 121,
   "metadata": {},
   "outputs": [
    {
     "name": "stdout",
     "output_type": "stream",
     "text": [
      "Entity: Apple Inc., Label: Company\n",
      "Entity: AAPL, Label: Symbol\n",
      "Entity: AAPL, Label: Symbol\n",
      "Entity: Microsoft, Label: Company\n",
      "Entity: Microsoft, Label: Company\n",
      "Entity: MSFT, Label: Symbol\n",
      "Entity: Microsoft, Label: Company\n",
      "Entity: Tesla Inc., Label: Company\n",
      "Entity: TSLA, Label: Symbol\n",
      "Entity: PFE, Label: Symbol\n"
     ]
    }
   ],
   "source": [
    "doc = nlp(text)\n",
    "for ent in doc.ents:\n",
    "    print(f\"Entity: {ent.text}, Label: {ent.label_}\")"
   ]
  },
  {
   "cell_type": "code",
   "execution_count": 122,
   "metadata": {},
   "outputs": [
    {
     "name": "stdout",
     "output_type": "stream",
     "text": [
      "نتایج در entities.html ذخیره شد.\n"
     ]
    }
   ],
   "source": [
    "from spacy import displacy\n",
    "html = displacy.render(doc, style=\"ent\", jupyter=False)\n",
    "\n",
    "# Save the result to a file\n",
    "with open(\"entities.html\", \"w\", encoding=\"utf-8\") as f:\n",
    "    f.write(html)\n",
    "print(\"نتایج در entities.html ذخیره شد.\")\n"
   ]
  },
  {
   "cell_type": "code",
   "execution_count": null,
   "metadata": {},
   "outputs": [],
   "source": []
  }
 ],
 "metadata": {
  "kernelspec": {
   "display_name": "myenv",
   "language": "python",
   "name": "python3"
  },
  "language_info": {
   "codemirror_mode": {
    "name": "ipython",
    "version": 3
   },
   "file_extension": ".py",
   "mimetype": "text/x-python",
   "name": "python",
   "nbconvert_exporter": "python",
   "pygments_lexer": "ipython3",
   "version": "3.12.6"
  }
 },
 "nbformat": 4,
 "nbformat_minor": 2
}
