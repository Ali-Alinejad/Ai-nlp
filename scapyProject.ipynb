{
 "cells": [
  {
   "cell_type": "code",
   "execution_count": 47,
   "metadata": {},
   "outputs": [],
   "source": [
    "import spacy\n",
    "import pandas as pd"
   ]
  },
  {
   "cell_type": "code",
   "execution_count": 48,
   "metadata": {},
   "outputs": [
    {
     "data": {
      "text/html": [
       "<div>\n",
       "<style scoped>\n",
       "    .dataframe tbody tr th:only-of-type {\n",
       "        vertical-align: middle;\n",
       "    }\n",
       "\n",
       "    .dataframe tbody tr th {\n",
       "        vertical-align: top;\n",
       "    }\n",
       "\n",
       "    .dataframe thead th {\n",
       "        text-align: right;\n",
       "    }\n",
       "</style>\n",
       "<table border=\"1\" class=\"dataframe\">\n",
       "  <thead>\n",
       "    <tr style=\"text-align: right;\">\n",
       "      <th></th>\n",
       "      <th>Symbol</th>\n",
       "      <th>Company</th>\n",
       "      <th>Industry</th>\n",
       "      <th>MarketCap</th>\n",
       "    </tr>\n",
       "  </thead>\n",
       "  <tbody>\n",
       "    <tr>\n",
       "      <th>0</th>\n",
       "      <td>AAPL</td>\n",
       "      <td>Apple Inc.</td>\n",
       "      <td>Technology</td>\n",
       "      <td>2800</td>\n",
       "    </tr>\n",
       "    <tr>\n",
       "      <th>1</th>\n",
       "      <td>MSFT</td>\n",
       "      <td>Microsoft</td>\n",
       "      <td>Technology</td>\n",
       "      <td>2500</td>\n",
       "    </tr>\n",
       "    <tr>\n",
       "      <th>2</th>\n",
       "      <td>TSLA</td>\n",
       "      <td>Tesla Inc.</td>\n",
       "      <td>Automotive</td>\n",
       "      <td>900</td>\n",
       "    </tr>\n",
       "    <tr>\n",
       "      <th>3</th>\n",
       "      <td>AMZN</td>\n",
       "      <td>Amazon.com Inc</td>\n",
       "      <td>E-Commerce</td>\n",
       "      <td>1700</td>\n",
       "    </tr>\n",
       "    <tr>\n",
       "      <th>4</th>\n",
       "      <td>GOOGL</td>\n",
       "      <td>Alphabet Inc.</td>\n",
       "      <td>Technology</td>\n",
       "      <td>1800</td>\n",
       "    </tr>\n",
       "  </tbody>\n",
       "</table>\n",
       "</div>"
      ],
      "text/plain": [
       "  Symbol         Company    Industry  MarketCap\n",
       "0   AAPL      Apple Inc.  Technology       2800\n",
       "1   MSFT      Microsoft   Technology       2500\n",
       "2   TSLA      Tesla Inc.  Automotive        900\n",
       "3   AMZN  Amazon.com Inc  E-Commerce       1700\n",
       "4  GOOGL   Alphabet Inc.  Technology       1800"
      ]
     },
     "execution_count": 48,
     "metadata": {},
     "output_type": "execute_result"
    }
   ],
   "source": [
    "df=pd.read_csv(\"stock_data_fixed.tsv\" , sep=\"\\t\")\n",
    "df.head()"
   ]
  },
  {
   "cell_type": "code",
   "execution_count": 49,
   "metadata": {},
   "outputs": [],
   "source": [
    "companies = df.Company.tolist()\n",
    "symbols = df.Company.tolist()\n",
    "marketV = df.Company.tolist()\n",
    "industry = df.Company.tolist()\n"
   ]
  },
  {
   "cell_type": "code",
   "execution_count": 50,
   "metadata": {},
   "outputs": [],
   "source": [
    "nlp = spacy.blank(\"en\")\n",
    "ruler = nlp.add_pipe(\"entity_ruler\")\n",
    "patterns = []\n",
    "for company in companies:\n",
    "    patterns.append({\n",
    "        \"label\": \"Company\",\n",
    "        \"pattern\": company\n",
    "    })\n",
    "for symbol in symbols:\n",
    "    patterns.append({\n",
    "        \"label\": \"Symbol\",\n",
    "        \"pattern\": symbol\n",
    "    })\n",
    "for marketV in marketV:\n",
    "    patterns.append({\n",
    "        \"label\": \"Market\",\n",
    "        \"pattern\": marketV\n",
    "    })\n",
    "for industry in industry:\n",
    "    patterns.append({\n",
    "        \"label\": \"Industry\",\n",
    "        \"pattern\": industry\n",
    "    })\n",
    "\n",
    "ruler.add_patterns(patterns)\n",
    "\n"
   ]
  },
  {
   "cell_type": "code",
   "execution_count": 51,
   "metadata": {},
   "outputs": [],
   "source": [
    "text =\"Apple Inc. is a leading technology company headquartered in Cupertino, California. With a market capitalization of over 2 trillion dollars, Apple is known for its innovative products like the iPhone, iPad, and MacBook. The company trades on the NASDAQ stock exchange under the symbol AAPL. Recently, Apple announced a new breakthrough in augmented reality (AR) technology. Microsoft Corporation, another tech giant, has a market cap of 1.8 trillion dollars. Known for its Windows operating system, Microsoft is also expanding its presence in cloud computing and AI. The company is listed on NASDAQ with the symbol MSFT. Microsoft's cloud platform, Azure, is a major competitor to Amazon Web Services (AWS). Tesla Inc., a leader in the electric vehicle industry, has been rapidly growing its market share. The company is valued at around 800 billion dollars, and it trades under the symbol TSLA on the NASDAQ exchange. Tesla is also expanding into energy storage solutions and solar power. Elon Musk, the CEO, continues to push the boundaries of technology and innovation. The pharmaceutical company Pfizer, with a market cap of 300 billion dollars, has been at the forefront of COVID-19 vaccine development. Its symbol, PFE, can be found on the New York Stock Exchange (NYSE). Pfizer is expanding its portfolio with new treatments for various diseases, including cancer and heart conditions\""
   ]
  },
  {
   "cell_type": "code",
   "execution_count": 52,
   "metadata": {},
   "outputs": [
    {
     "name": "stdout",
     "output_type": "stream",
     "text": [
      "Entity: Apple Inc., Label: Company\n",
      "Entity: Microsoft, Label: Company\n",
      "Entity: Microsoft, Label: Industry\n",
      "Entity: Microsoft, Label: Company\n",
      "Entity: Tesla Inc., Label: Industry\n"
     ]
    }
   ],
   "source": [
    "doc = nlp(text)\n",
    "\n",
    "for ent in doc.ents:\n",
    "    print(f\"Entity: {ent.text}, Label: {ent.label_}\")\n",
    "\n",
    "nlp = spacy.load(\"en_core_web_sm\")\n",
    "\n",
    "\n"
   ]
  }
 ],
 "metadata": {
  "kernelspec": {
   "display_name": "myenv",
   "language": "python",
   "name": "python3"
  },
  "language_info": {
   "codemirror_mode": {
    "name": "ipython",
    "version": 3
   },
   "file_extension": ".py",
   "mimetype": "text/x-python",
   "name": "python",
   "nbconvert_exporter": "python",
   "pygments_lexer": "ipython3",
   "version": "3.12.6"
  }
 },
 "nbformat": 4,
 "nbformat_minor": 2
}
